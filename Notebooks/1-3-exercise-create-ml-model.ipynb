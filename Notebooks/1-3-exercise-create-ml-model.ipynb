{
  "cells": [
    {
      "cell_type": "markdown",
      "source": [
        "# Exercise: Train and Run Your First Model\n",
        "\n",
        "We've learned that models are computer code that processes information to make a prediction or a decision. Here, we train a model to guess a comfortable boot size for a dog, based on the size of the harness that fits them.\n",
        "\n",
        "In the examples below, there's no need to edit any code. Try to read it, understand it, then press the run button to run it. As always with these notebooks, it's vitally important that these code blocks are run in the correct order, and nothing is missed.\n",
        "\n",
        "> **Note**: If you've never used the Jupyter Notebooks environment before, there are a few things you should be aware of:\n",
        "> \n",
        "> - Notebooks are made up of *cells*. Some cells (like this one) contain *markdown* text, while others contain code.\n",
        "> - You can run each code cell by using the **&#9658; Run** button. The **&#9658; Run** button will show up when you hover over the cell.\n",
        "> - The output from each code cell will be displayed immediately below the cell.\n",
        "> - Even though the code cells can be run individually, some variables used in the code are global to the notebook. That means that you should run all of the code cells <u>**in order**</u>. There may be dependencies between code cells, so if you skip a cell, subsequent cells might not run correctly.\n",
        "\n",
        "## Preparing data\n",
        "\n",
        "The first thing we do with a model is load data. We cover this in more detail in a later exercise. For now, we just write our data directly in our code. Review and run the following code to get started:\n"
      ],
      "metadata": {}
    },
    {
      "cell_type": "code",
      "source": [
        "import pandas\n",
        "!wget https://raw.githubusercontent.com/MicrosoftDocs/mslearn-introduction-to-machine-learning/main/graphing.py\n",
        "!wget https://raw.githubusercontent.com/MicrosoftDocs/mslearn-introduction-to-machine-learning/main/Data/doggy-boot-harness.csv\n",
        "!pip install statsmodels\n",
        "\n",
        "\n",
        "# Make a dictionary of data for boot sizes\n",
        "# and harness sizes in cm\n",
        "data = {\n",
        "    'boot_size' : [ 39, 38, 37, 39, 38, 35, 37, 36, 35, 40, \n",
        "                    40, 36, 38, 39, 42, 42, 36, 36, 35, 41, \n",
        "                    42, 38, 37, 35, 40, 36, 35, 39, 41, 37, \n",
        "                    35, 41, 39, 41, 42, 42, 36, 37, 37, 39,\n",
        "                    42, 35, 36, 41, 41, 41, 39, 39, 35, 39\n",
        " ],\n",
        "    'harness_size': [ 58, 58, 52, 58, 57, 52, 55, 53, 49, 54,\n",
        "                59, 56, 53, 58, 57, 58, 56, 51, 50, 59,\n",
        "                59, 59, 55, 50, 55, 52, 53, 54, 61, 56,\n",
        "                55, 60, 57, 56, 61, 58, 53, 57, 57, 55,\n",
        "                60, 51, 52, 56, 55, 57, 58, 57, 51, 59\n",
        "                ]\n",
        "}\n",
        "\n",
        "# Convert it into a table using pandas\n",
        "dataset = pandas.DataFrame(data)\n",
        "\n",
        "# Print the data\n",
        "# In normal python we would write\n",
        "# print(dataset)\n",
        "# but in Jupyter notebooks, we simply write the name\n",
        "# of the variable and it is printed nicely \n",
        "dataset"
      ],
      "outputs": [
        {
          "output_type": "stream",
          "name": "stdout",
          "text": "--2023-10-24 11:29:51--  https://raw.githubusercontent.com/MicrosoftDocs/mslearn-introduction-to-machine-learning/main/graphing.py\nResolving raw.githubusercontent.com (raw.githubusercontent.com)... 185.199.111.133, 185.199.109.133, 185.199.108.133, ...\nConnecting to raw.githubusercontent.com (raw.githubusercontent.com)|185.199.111.133|:443... connected.\nHTTP request sent, awaiting response... 200 OK\nLength: 21511 (21K) [text/plain]\nSaving to: ‘graphing.py.1’\n\ngraphing.py.1       100%[===================>]  21.01K  --.-KB/s    in 0.001s  \n\n2023-10-24 11:29:51 (40.0 MB/s) - ‘graphing.py.1’ saved [21511/21511]\n\n--2023-10-24 11:29:53--  https://raw.githubusercontent.com/MicrosoftDocs/mslearn-introduction-to-machine-learning/main/Data/doggy-boot-harness.csv\nResolving raw.githubusercontent.com (raw.githubusercontent.com)... 185.199.111.133, 185.199.109.133, 185.199.108.133, ...\nConnecting to raw.githubusercontent.com (raw.githubusercontent.com)|185.199.111.133|:443... connected.\nHTTP request sent, awaiting response... 200 OK\nLength: 838 [text/plain]\nSaving to: ‘doggy-boot-harness.csv.1’\n\ndoggy-boot-harness. 100%[===================>]     838  --.-KB/s    in 0s      \n\n2023-10-24 11:29:53 (55.5 MB/s) - ‘doggy-boot-harness.csv.1’ saved [838/838]\n\nRequirement already satisfied: statsmodels in /anaconda/envs/azureml_py38/lib/python3.8/site-packages (0.11.0)\nRequirement already satisfied: pandas>=0.21 in /anaconda/envs/azureml_py38/lib/python3.8/site-packages (from statsmodels) (1.1.5)\nRequirement already satisfied: scipy>=1.0 in /anaconda/envs/azureml_py38/lib/python3.8/site-packages (from statsmodels) (1.5.3)\nRequirement already satisfied: patsy>=0.5 in /anaconda/envs/azureml_py38/lib/python3.8/site-packages (from statsmodels) (0.5.2)\nRequirement already satisfied: numpy>=1.14 in /anaconda/envs/azureml_py38/lib/python3.8/site-packages (from statsmodels) (1.21.6)\nRequirement already satisfied: python-dateutil>=2.7.3 in /anaconda/envs/azureml_py38/lib/python3.8/site-packages (from pandas>=0.21->statsmodels) (2.8.2)\nRequirement already satisfied: pytz>=2017.2 in /anaconda/envs/azureml_py38/lib/python3.8/site-packages (from pandas>=0.21->statsmodels) (2022.1)\nRequirement already satisfied: six in /anaconda/envs/azureml_py38/lib/python3.8/site-packages (from patsy>=0.5->statsmodels) (1.16.0)\n"
        },
        {
          "output_type": "execute_result",
          "execution_count": 6,
          "data": {
            "text/plain": "    boot_size  harness_size\n0          39            58\n1          38            58\n2          37            52\n3          39            58\n4          38            57\n5          35            52\n6          37            55\n7          36            53\n8          35            49\n9          40            54\n10         40            59\n11         36            56\n12         38            53\n13         39            58\n14         42            57\n15         42            58\n16         36            56\n17         36            51\n18         35            50\n19         41            59\n20         42            59\n21         38            59\n22         37            55\n23         35            50\n24         40            55\n25         36            52\n26         35            53\n27         39            54\n28         41            61\n29         37            56\n30         35            55\n31         41            60\n32         39            57\n33         41            56\n34         42            61\n35         42            58\n36         36            53\n37         37            57\n38         37            57\n39         39            55\n40         42            60\n41         35            51\n42         36            52\n43         41            56\n44         41            55\n45         41            57\n46         39            58\n47         39            57\n48         35            51\n49         39            59",
            "text/html": "<div>\n<style scoped>\n    .dataframe tbody tr th:only-of-type {\n        vertical-align: middle;\n    }\n\n    .dataframe tbody tr th {\n        vertical-align: top;\n    }\n\n    .dataframe thead th {\n        text-align: right;\n    }\n</style>\n<table border=\"1\" class=\"dataframe\">\n  <thead>\n    <tr style=\"text-align: right;\">\n      <th></th>\n      <th>boot_size</th>\n      <th>harness_size</th>\n    </tr>\n  </thead>\n  <tbody>\n    <tr>\n      <th>0</th>\n      <td>39</td>\n      <td>58</td>\n    </tr>\n    <tr>\n      <th>1</th>\n      <td>38</td>\n      <td>58</td>\n    </tr>\n    <tr>\n      <th>2</th>\n      <td>37</td>\n      <td>52</td>\n    </tr>\n    <tr>\n      <th>3</th>\n      <td>39</td>\n      <td>58</td>\n    </tr>\n    <tr>\n      <th>4</th>\n      <td>38</td>\n      <td>57</td>\n    </tr>\n    <tr>\n      <th>5</th>\n      <td>35</td>\n      <td>52</td>\n    </tr>\n    <tr>\n      <th>6</th>\n      <td>37</td>\n      <td>55</td>\n    </tr>\n    <tr>\n      <th>7</th>\n      <td>36</td>\n      <td>53</td>\n    </tr>\n    <tr>\n      <th>8</th>\n      <td>35</td>\n      <td>49</td>\n    </tr>\n    <tr>\n      <th>9</th>\n      <td>40</td>\n      <td>54</td>\n    </tr>\n    <tr>\n      <th>10</th>\n      <td>40</td>\n      <td>59</td>\n    </tr>\n    <tr>\n      <th>11</th>\n      <td>36</td>\n      <td>56</td>\n    </tr>\n    <tr>\n      <th>12</th>\n      <td>38</td>\n      <td>53</td>\n    </tr>\n    <tr>\n      <th>13</th>\n      <td>39</td>\n      <td>58</td>\n    </tr>\n    <tr>\n      <th>14</th>\n      <td>42</td>\n      <td>57</td>\n    </tr>\n    <tr>\n      <th>15</th>\n      <td>42</td>\n      <td>58</td>\n    </tr>\n    <tr>\n      <th>16</th>\n      <td>36</td>\n      <td>56</td>\n    </tr>\n    <tr>\n      <th>17</th>\n      <td>36</td>\n      <td>51</td>\n    </tr>\n    <tr>\n      <th>18</th>\n      <td>35</td>\n      <td>50</td>\n    </tr>\n    <tr>\n      <th>19</th>\n      <td>41</td>\n      <td>59</td>\n    </tr>\n    <tr>\n      <th>20</th>\n      <td>42</td>\n      <td>59</td>\n    </tr>\n    <tr>\n      <th>21</th>\n      <td>38</td>\n      <td>59</td>\n    </tr>\n    <tr>\n      <th>22</th>\n      <td>37</td>\n      <td>55</td>\n    </tr>\n    <tr>\n      <th>23</th>\n      <td>35</td>\n      <td>50</td>\n    </tr>\n    <tr>\n      <th>24</th>\n      <td>40</td>\n      <td>55</td>\n    </tr>\n    <tr>\n      <th>25</th>\n      <td>36</td>\n      <td>52</td>\n    </tr>\n    <tr>\n      <th>26</th>\n      <td>35</td>\n      <td>53</td>\n    </tr>\n    <tr>\n      <th>27</th>\n      <td>39</td>\n      <td>54</td>\n    </tr>\n    <tr>\n      <th>28</th>\n      <td>41</td>\n      <td>61</td>\n    </tr>\n    <tr>\n      <th>29</th>\n      <td>37</td>\n      <td>56</td>\n    </tr>\n    <tr>\n      <th>30</th>\n      <td>35</td>\n      <td>55</td>\n    </tr>\n    <tr>\n      <th>31</th>\n      <td>41</td>\n      <td>60</td>\n    </tr>\n    <tr>\n      <th>32</th>\n      <td>39</td>\n      <td>57</td>\n    </tr>\n    <tr>\n      <th>33</th>\n      <td>41</td>\n      <td>56</td>\n    </tr>\n    <tr>\n      <th>34</th>\n      <td>42</td>\n      <td>61</td>\n    </tr>\n    <tr>\n      <th>35</th>\n      <td>42</td>\n      <td>58</td>\n    </tr>\n    <tr>\n      <th>36</th>\n      <td>36</td>\n      <td>53</td>\n    </tr>\n    <tr>\n      <th>37</th>\n      <td>37</td>\n      <td>57</td>\n    </tr>\n    <tr>\n      <th>38</th>\n      <td>37</td>\n      <td>57</td>\n    </tr>\n    <tr>\n      <th>39</th>\n      <td>39</td>\n      <td>55</td>\n    </tr>\n    <tr>\n      <th>40</th>\n      <td>42</td>\n      <td>60</td>\n    </tr>\n    <tr>\n      <th>41</th>\n      <td>35</td>\n      <td>51</td>\n    </tr>\n    <tr>\n      <th>42</th>\n      <td>36</td>\n      <td>52</td>\n    </tr>\n    <tr>\n      <th>43</th>\n      <td>41</td>\n      <td>56</td>\n    </tr>\n    <tr>\n      <th>44</th>\n      <td>41</td>\n      <td>55</td>\n    </tr>\n    <tr>\n      <th>45</th>\n      <td>41</td>\n      <td>57</td>\n    </tr>\n    <tr>\n      <th>46</th>\n      <td>39</td>\n      <td>58</td>\n    </tr>\n    <tr>\n      <th>47</th>\n      <td>39</td>\n      <td>57</td>\n    </tr>\n    <tr>\n      <th>48</th>\n      <td>35</td>\n      <td>51</td>\n    </tr>\n    <tr>\n      <th>49</th>\n      <td>39</td>\n      <td>59</td>\n    </tr>\n  </tbody>\n</table>\n</div>"
          },
          "metadata": {}
        }
      ],
      "execution_count": 6,
      "metadata": {}
    },
    {
      "cell_type": "markdown",
      "source": [
        "As you can see, we have the sizes of boots and harnesses for 50 avalanche dogs.\n",
        "\n",
        "We want to use harness size to estimate boot size. This means `harness_size` is our _input_. We want a model that will process the input and make its own estimations of the boot size (output).  \n",
        "\n",
        "## Select a model\n",
        "\n",
        "The first thing we must do is select a model. We're just getting started, so let's start with a very simple model called _OLS_. This is just a straight line (sometimes called a trendline).\n",
        "\n",
        "Let's use an existing library to create our model, but we won't train it yet."
      ],
      "metadata": {}
    },
    {
      "cell_type": "code",
      "source": [
        "# Load a library to do the hard work for us\n",
        "import statsmodels.formula.api as smf\n",
        "\n",
        "# First, we define our formula using a special syntax\n",
        "# This says that boot_size is explained by harness_size\n",
        "formula = \"boot_size ~ harness_size\"\n",
        "\n",
        "# Create the model, but don't train it yet\n",
        "model = smf.ols(formula = formula, data = dataset)\n",
        "\n",
        "# Note that we have created our model but it does not \n",
        "# have internal parameters set yet\n",
        "if not hasattr(model, 'params'):\n",
        "    print(\"Model selected but it does not have parameters set. We need to train it!\")"
      ],
      "outputs": [
        {
          "output_type": "stream",
          "name": "stdout",
          "text": "Model selected but it does not have parameters set. We need to train it!\n"
        }
      ],
      "execution_count": 7,
      "metadata": {}
    },
    {
      "cell_type": "markdown",
      "source": [
        "## Train our model\n",
        "\n",
        "OLS models have two parameters (a slope and an offset), but these haven't been set in our model yet. We need to _train_ (_fit_) our model to find these values so that the model can reliably estimate dogs' boot size based on their harness size. \n",
        "\n",
        "The following code fits our model to data you've now seen:"
      ],
      "metadata": {}
    },
    {
      "cell_type": "code",
      "source": [
        "# Load some libraries to do the hard work for us\n",
        "import graphing \n",
        "\n",
        "# Train (fit) the model so that it creates a line that \n",
        "# fits our data. This method does the hard work for\n",
        "# us. We will look at how this method works in a later unit.\n",
        "fitted_model = model.fit()\n",
        "\n",
        "# Print information about our model now it has been fit\n",
        "print(\"The following model parameters have been found:\\n\" +\n",
        "        f\"Line slope: {fitted_model.params[1]}\\n\"+\n",
        "        f\"Line Intercept: {fitted_model.params[0]}\")"
      ],
      "outputs": [
        {
          "output_type": "stream",
          "name": "stdout",
          "text": "The following model parameters have been found:\nLine slope: 0.5859254167382711\nLine Intercept: 5.719109812682577\n"
        }
      ],
      "execution_count": 8,
      "metadata": {}
    },
    {
      "cell_type": "markdown",
      "source": [
        "Notice how training the model set its parameters. We could interpret these directly, but it's simpler to see it as a graph:\n"
      ],
      "metadata": {}
    },
    {
      "cell_type": "code",
      "source": [
        "import graphing\n",
        "\n",
        "# Show a graph of the result\n",
        "# Don't worry about how this works for now\n",
        "graphing.scatter_2D(dataset,    label_x=\"harness_size\", \n",
        "                                label_y=\"boot_size\",\n",
        "                                trendline=lambda x: fitted_model.params[1] * x + fitted_model.params[0]\n",
        "                                )"
      ],
      "outputs": [
        {
          "output_type": "display_data",
          "data": {
            "application/vnd.plotly.v1+json": {
              "data": [
                {
                  "hovertemplate": "harness size=%{x}<br>boot size=%{y}<extra></extra>",
                  "legendgroup": "",
                  "marker": {
                    "color": "#636efa",
                    "symbol": "circle",
                    "size": 19
                  },
                  "mode": "markers",
                  "name": "",
                  "orientation": "v",
                  "showlegend": false,
                  "x": [
                    58,
                    58,
                    52,
                    58,
                    57,
                    52,
                    55,
                    53,
                    49,
                    54,
                    59,
                    56,
                    53,
                    58,
                    57,
                    58,
                    56,
                    51,
                    50,
                    59,
                    59,
                    59,
                    55,
                    50,
                    55,
                    52,
                    53,
                    54,
                    61,
                    56,
                    55,
                    60,
                    57,
                    56,
                    61,
                    58,
                    53,
                    57,
                    57,
                    55,
                    60,
                    51,
                    52,
                    56,
                    55,
                    57,
                    58,
                    57,
                    51,
                    59
                  ],
                  "xaxis": "x",
                  "y": [
                    39,
                    38,
                    37,
                    39,
                    38,
                    35,
                    37,
                    36,
                    35,
                    40,
                    40,
                    36,
                    38,
                    39,
                    42,
                    42,
                    36,
                    36,
                    35,
                    41,
                    42,
                    38,
                    37,
                    35,
                    40,
                    36,
                    35,
                    39,
                    41,
                    37,
                    35,
                    41,
                    39,
                    41,
                    42,
                    42,
                    36,
                    37,
                    37,
                    39,
                    42,
                    35,
                    36,
                    41,
                    41,
                    41,
                    39,
                    39,
                    35,
                    39
                  ],
                  "yaxis": "y",
                  "type": "scatter"
                }
              ],
              "layout": {
                "template": {
                  "data": {
                    "barpolar": [
                      {
                        "marker": {
                          "line": {
                            "color": "white",
                            "width": 0.5
                          },
                          "pattern": {
                            "fillmode": "overlay",
                            "size": 10,
                            "solidity": 0.2
                          }
                        },
                        "type": "barpolar"
                      }
                    ],
                    "bar": [
                      {
                        "error_x": {
                          "color": "#2a3f5f"
                        },
                        "error_y": {
                          "color": "#2a3f5f"
                        },
                        "marker": {
                          "line": {
                            "color": "white",
                            "width": 0.5
                          },
                          "pattern": {
                            "fillmode": "overlay",
                            "size": 10,
                            "solidity": 0.2
                          }
                        },
                        "type": "bar"
                      }
                    ],
                    "carpet": [
                      {
                        "aaxis": {
                          "endlinecolor": "#2a3f5f",
                          "gridcolor": "#C8D4E3",
                          "linecolor": "#C8D4E3",
                          "minorgridcolor": "#C8D4E3",
                          "startlinecolor": "#2a3f5f"
                        },
                        "baxis": {
                          "endlinecolor": "#2a3f5f",
                          "gridcolor": "#C8D4E3",
                          "linecolor": "#C8D4E3",
                          "minorgridcolor": "#C8D4E3",
                          "startlinecolor": "#2a3f5f"
                        },
                        "type": "carpet"
                      }
                    ],
                    "choropleth": [
                      {
                        "colorbar": {
                          "outlinewidth": 0,
                          "ticks": ""
                        },
                        "type": "choropleth"
                      }
                    ],
                    "contourcarpet": [
                      {
                        "colorbar": {
                          "outlinewidth": 0,
                          "ticks": ""
                        },
                        "type": "contourcarpet"
                      }
                    ],
                    "contour": [
                      {
                        "colorbar": {
                          "outlinewidth": 0,
                          "ticks": ""
                        },
                        "colorscale": [
                          [
                            0,
                            "#0d0887"
                          ],
                          [
                            0.1111111111111111,
                            "#46039f"
                          ],
                          [
                            0.2222222222222222,
                            "#7201a8"
                          ],
                          [
                            0.3333333333333333,
                            "#9c179e"
                          ],
                          [
                            0.4444444444444444,
                            "#bd3786"
                          ],
                          [
                            0.5555555555555556,
                            "#d8576b"
                          ],
                          [
                            0.6666666666666666,
                            "#ed7953"
                          ],
                          [
                            0.7777777777777778,
                            "#fb9f3a"
                          ],
                          [
                            0.8888888888888888,
                            "#fdca26"
                          ],
                          [
                            1,
                            "#f0f921"
                          ]
                        ],
                        "type": "contour"
                      }
                    ],
                    "heatmapgl": [
                      {
                        "colorbar": {
                          "outlinewidth": 0,
                          "ticks": ""
                        },
                        "colorscale": [
                          [
                            0,
                            "#0d0887"
                          ],
                          [
                            0.1111111111111111,
                            "#46039f"
                          ],
                          [
                            0.2222222222222222,
                            "#7201a8"
                          ],
                          [
                            0.3333333333333333,
                            "#9c179e"
                          ],
                          [
                            0.4444444444444444,
                            "#bd3786"
                          ],
                          [
                            0.5555555555555556,
                            "#d8576b"
                          ],
                          [
                            0.6666666666666666,
                            "#ed7953"
                          ],
                          [
                            0.7777777777777778,
                            "#fb9f3a"
                          ],
                          [
                            0.8888888888888888,
                            "#fdca26"
                          ],
                          [
                            1,
                            "#f0f921"
                          ]
                        ],
                        "type": "heatmapgl"
                      }
                    ],
                    "heatmap": [
                      {
                        "colorbar": {
                          "outlinewidth": 0,
                          "ticks": ""
                        },
                        "colorscale": [
                          [
                            0,
                            "#0d0887"
                          ],
                          [
                            0.1111111111111111,
                            "#46039f"
                          ],
                          [
                            0.2222222222222222,
                            "#7201a8"
                          ],
                          [
                            0.3333333333333333,
                            "#9c179e"
                          ],
                          [
                            0.4444444444444444,
                            "#bd3786"
                          ],
                          [
                            0.5555555555555556,
                            "#d8576b"
                          ],
                          [
                            0.6666666666666666,
                            "#ed7953"
                          ],
                          [
                            0.7777777777777778,
                            "#fb9f3a"
                          ],
                          [
                            0.8888888888888888,
                            "#fdca26"
                          ],
                          [
                            1,
                            "#f0f921"
                          ]
                        ],
                        "type": "heatmap"
                      }
                    ],
                    "histogram2dcontour": [
                      {
                        "colorbar": {
                          "outlinewidth": 0,
                          "ticks": ""
                        },
                        "colorscale": [
                          [
                            0,
                            "#0d0887"
                          ],
                          [
                            0.1111111111111111,
                            "#46039f"
                          ],
                          [
                            0.2222222222222222,
                            "#7201a8"
                          ],
                          [
                            0.3333333333333333,
                            "#9c179e"
                          ],
                          [
                            0.4444444444444444,
                            "#bd3786"
                          ],
                          [
                            0.5555555555555556,
                            "#d8576b"
                          ],
                          [
                            0.6666666666666666,
                            "#ed7953"
                          ],
                          [
                            0.7777777777777778,
                            "#fb9f3a"
                          ],
                          [
                            0.8888888888888888,
                            "#fdca26"
                          ],
                          [
                            1,
                            "#f0f921"
                          ]
                        ],
                        "type": "histogram2dcontour"
                      }
                    ],
                    "histogram2d": [
                      {
                        "colorbar": {
                          "outlinewidth": 0,
                          "ticks": ""
                        },
                        "colorscale": [
                          [
                            0,
                            "#0d0887"
                          ],
                          [
                            0.1111111111111111,
                            "#46039f"
                          ],
                          [
                            0.2222222222222222,
                            "#7201a8"
                          ],
                          [
                            0.3333333333333333,
                            "#9c179e"
                          ],
                          [
                            0.4444444444444444,
                            "#bd3786"
                          ],
                          [
                            0.5555555555555556,
                            "#d8576b"
                          ],
                          [
                            0.6666666666666666,
                            "#ed7953"
                          ],
                          [
                            0.7777777777777778,
                            "#fb9f3a"
                          ],
                          [
                            0.8888888888888888,
                            "#fdca26"
                          ],
                          [
                            1,
                            "#f0f921"
                          ]
                        ],
                        "type": "histogram2d"
                      }
                    ],
                    "histogram": [
                      {
                        "marker": {
                          "pattern": {
                            "fillmode": "overlay",
                            "size": 10,
                            "solidity": 0.2
                          },
                          "line": {
                            "width": 1
                          }
                        },
                        "type": "histogram"
                      }
                    ],
                    "mesh3d": [
                      {
                        "colorbar": {
                          "outlinewidth": 0,
                          "ticks": ""
                        },
                        "type": "mesh3d"
                      }
                    ],
                    "parcoords": [
                      {
                        "line": {
                          "colorbar": {
                            "outlinewidth": 0,
                            "ticks": ""
                          }
                        },
                        "type": "parcoords"
                      }
                    ],
                    "pie": [
                      {
                        "automargin": true,
                        "type": "pie"
                      }
                    ],
                    "scatter3d": [
                      {
                        "line": {
                          "colorbar": {
                            "outlinewidth": 0,
                            "ticks": ""
                          }
                        },
                        "marker": {
                          "colorbar": {
                            "outlinewidth": 0,
                            "ticks": ""
                          },
                          "opacity": 0.8
                        },
                        "type": "scatter3d"
                      }
                    ],
                    "scattercarpet": [
                      {
                        "marker": {
                          "colorbar": {
                            "outlinewidth": 0,
                            "ticks": ""
                          }
                        },
                        "type": "scattercarpet"
                      }
                    ],
                    "scattergeo": [
                      {
                        "marker": {
                          "colorbar": {
                            "outlinewidth": 0,
                            "ticks": ""
                          }
                        },
                        "type": "scattergeo"
                      }
                    ],
                    "scattergl": [
                      {
                        "marker": {
                          "colorbar": {
                            "outlinewidth": 0,
                            "ticks": ""
                          }
                        },
                        "type": "scattergl"
                      }
                    ],
                    "scattermapbox": [
                      {
                        "marker": {
                          "colorbar": {
                            "outlinewidth": 0,
                            "ticks": ""
                          }
                        },
                        "type": "scattermapbox"
                      }
                    ],
                    "scatterpolargl": [
                      {
                        "marker": {
                          "colorbar": {
                            "outlinewidth": 0,
                            "ticks": ""
                          }
                        },
                        "type": "scatterpolargl"
                      }
                    ],
                    "scatterpolar": [
                      {
                        "marker": {
                          "colorbar": {
                            "outlinewidth": 0,
                            "ticks": ""
                          }
                        },
                        "type": "scatterpolar"
                      }
                    ],
                    "scatter": [
                      {
                        "fillpattern": {
                          "fillmode": "overlay",
                          "size": 10,
                          "solidity": 0.2
                        },
                        "type": "scatter",
                        "marker": {
                          "opacity": 0.8
                        }
                      }
                    ],
                    "scatterternary": [
                      {
                        "marker": {
                          "colorbar": {
                            "outlinewidth": 0,
                            "ticks": ""
                          }
                        },
                        "type": "scatterternary"
                      }
                    ],
                    "surface": [
                      {
                        "colorbar": {
                          "outlinewidth": 0,
                          "ticks": ""
                        },
                        "colorscale": [
                          [
                            0,
                            "#0d0887"
                          ],
                          [
                            0.1111111111111111,
                            "#46039f"
                          ],
                          [
                            0.2222222222222222,
                            "#7201a8"
                          ],
                          [
                            0.3333333333333333,
                            "#9c179e"
                          ],
                          [
                            0.4444444444444444,
                            "#bd3786"
                          ],
                          [
                            0.5555555555555556,
                            "#d8576b"
                          ],
                          [
                            0.6666666666666666,
                            "#ed7953"
                          ],
                          [
                            0.7777777777777778,
                            "#fb9f3a"
                          ],
                          [
                            0.8888888888888888,
                            "#fdca26"
                          ],
                          [
                            1,
                            "#f0f921"
                          ]
                        ],
                        "type": "surface"
                      }
                    ],
                    "table": [
                      {
                        "cells": {
                          "fill": {
                            "color": "#EBF0F8"
                          },
                          "line": {
                            "color": "white"
                          }
                        },
                        "header": {
                          "fill": {
                            "color": "#C8D4E3"
                          },
                          "line": {
                            "color": "white"
                          }
                        },
                        "type": "table"
                      }
                    ],
                    "box": [
                      {
                        "boxpoints": "outliers",
                        "notched": false,
                        "type": "box"
                      }
                    ]
                  },
                  "layout": {
                    "annotationdefaults": {
                      "arrowcolor": "#2a3f5f",
                      "arrowhead": 0,
                      "arrowwidth": 1
                    },
                    "autotypenumbers": "strict",
                    "coloraxis": {
                      "colorbar": {
                        "outlinewidth": 0,
                        "ticks": ""
                      }
                    },
                    "colorscale": {
                      "diverging": [
                        [
                          0,
                          "#8e0152"
                        ],
                        [
                          0.1,
                          "#c51b7d"
                        ],
                        [
                          0.2,
                          "#de77ae"
                        ],
                        [
                          0.3,
                          "#f1b6da"
                        ],
                        [
                          0.4,
                          "#fde0ef"
                        ],
                        [
                          0.5,
                          "#f7f7f7"
                        ],
                        [
                          0.6,
                          "#e6f5d0"
                        ],
                        [
                          0.7,
                          "#b8e186"
                        ],
                        [
                          0.8,
                          "#7fbc41"
                        ],
                        [
                          0.9,
                          "#4d9221"
                        ],
                        [
                          1,
                          "#276419"
                        ]
                      ],
                      "sequential": [
                        [
                          0,
                          "#0d0887"
                        ],
                        [
                          0.1111111111111111,
                          "#46039f"
                        ],
                        [
                          0.2222222222222222,
                          "#7201a8"
                        ],
                        [
                          0.3333333333333333,
                          "#9c179e"
                        ],
                        [
                          0.4444444444444444,
                          "#bd3786"
                        ],
                        [
                          0.5555555555555556,
                          "#d8576b"
                        ],
                        [
                          0.6666666666666666,
                          "#ed7953"
                        ],
                        [
                          0.7777777777777778,
                          "#fb9f3a"
                        ],
                        [
                          0.8888888888888888,
                          "#fdca26"
                        ],
                        [
                          1,
                          "#f0f921"
                        ]
                      ],
                      "sequentialminus": [
                        [
                          0,
                          "#0d0887"
                        ],
                        [
                          0.1111111111111111,
                          "#46039f"
                        ],
                        [
                          0.2222222222222222,
                          "#7201a8"
                        ],
                        [
                          0.3333333333333333,
                          "#9c179e"
                        ],
                        [
                          0.4444444444444444,
                          "#bd3786"
                        ],
                        [
                          0.5555555555555556,
                          "#d8576b"
                        ],
                        [
                          0.6666666666666666,
                          "#ed7953"
                        ],
                        [
                          0.7777777777777778,
                          "#fb9f3a"
                        ],
                        [
                          0.8888888888888888,
                          "#fdca26"
                        ],
                        [
                          1,
                          "#f0f921"
                        ]
                      ]
                    },
                    "colorway": [
                      "#636efa",
                      "#EF553B",
                      "#00cc96",
                      "#ab63fa",
                      "#FFA15A",
                      "#19d3f3",
                      "#FF6692",
                      "#B6E880",
                      "#FF97FF",
                      "#FECB52"
                    ],
                    "font": {
                      "color": "#2a3f5f"
                    },
                    "geo": {
                      "bgcolor": "white",
                      "lakecolor": "white",
                      "landcolor": "white",
                      "showlakes": true,
                      "showland": true,
                      "subunitcolor": "#C8D4E3"
                    },
                    "hoverlabel": {
                      "align": "left"
                    },
                    "hovermode": "closest",
                    "mapbox": {
                      "style": "light"
                    },
                    "paper_bgcolor": "white",
                    "plot_bgcolor": "white",
                    "polar": {
                      "angularaxis": {
                        "gridcolor": "#EBF0F8",
                        "linecolor": "#EBF0F8",
                        "ticks": ""
                      },
                      "bgcolor": "white",
                      "radialaxis": {
                        "gridcolor": "#EBF0F8",
                        "linecolor": "#EBF0F8",
                        "ticks": ""
                      }
                    },
                    "scene": {
                      "xaxis": {
                        "backgroundcolor": "white",
                        "gridcolor": "#DFE8F3",
                        "gridwidth": 2,
                        "linecolor": "#EBF0F8",
                        "showbackground": true,
                        "ticks": "",
                        "zerolinecolor": "#EBF0F8"
                      },
                      "yaxis": {
                        "backgroundcolor": "white",
                        "gridcolor": "#DFE8F3",
                        "gridwidth": 2,
                        "linecolor": "#EBF0F8",
                        "showbackground": true,
                        "ticks": "",
                        "zerolinecolor": "#EBF0F8"
                      },
                      "zaxis": {
                        "backgroundcolor": "white",
                        "gridcolor": "#DFE8F3",
                        "gridwidth": 2,
                        "linecolor": "#EBF0F8",
                        "showbackground": true,
                        "ticks": "",
                        "zerolinecolor": "#EBF0F8"
                      },
                      "camera": {
                        "eye": {
                          "x": 1.5,
                          "y": 1.5,
                          "z": 0.1
                        }
                      }
                    },
                    "shapedefaults": {
                      "line": {
                        "color": "#2a3f5f"
                      }
                    },
                    "ternary": {
                      "aaxis": {
                        "gridcolor": "#DFE8F3",
                        "linecolor": "#A2B1C6",
                        "ticks": ""
                      },
                      "baxis": {
                        "gridcolor": "#DFE8F3",
                        "linecolor": "#A2B1C6",
                        "ticks": ""
                      },
                      "bgcolor": "white",
                      "caxis": {
                        "gridcolor": "#DFE8F3",
                        "linecolor": "#A2B1C6",
                        "ticks": ""
                      }
                    },
                    "title": {
                      "x": 0.5
                    },
                    "xaxis": {
                      "automargin": true,
                      "gridcolor": "#EBF0F8",
                      "linecolor": "#EBF0F8",
                      "ticks": "",
                      "title": {
                        "standoff": 15
                      },
                      "zerolinecolor": "#EBF0F8",
                      "zerolinewidth": 2,
                      "linewidth": 2,
                      "showline": true
                    },
                    "yaxis": {
                      "automargin": true,
                      "gridcolor": "#EBF0F8",
                      "linecolor": "#EBF0F8",
                      "ticks": "",
                      "title": {
                        "standoff": 15
                      },
                      "zerolinecolor": "#EBF0F8",
                      "zerolinewidth": 2,
                      "linewidth": 2,
                      "showline": true
                    },
                    "height": 400,
                    "margin": {
                      "b": 2,
                      "l": 2,
                      "r": 2,
                      "t": 30
                    }
                  }
                },
                "xaxis": {
                  "anchor": "y",
                  "domain": [
                    0,
                    1
                  ],
                  "title": {
                    "text": "harness size"
                  }
                },
                "yaxis": {
                  "anchor": "x",
                  "domain": [
                    0,
                    1
                  ],
                  "title": {
                    "text": "boot size"
                  }
                },
                "legend": {
                  "tracegroupgap": 0
                },
                "shapes": [
                  {
                    "path": "M49.0 34.42945523285786 L 49.06030150753769 34.46478741879183 L 49.120603015075375 34.500119604725796 L 49.18090452261306 34.53545179065976 L 49.24120603015076 34.57078397659373 L 49.301507537688444 34.60611616252769 L 49.36180904522613 34.64144834846166 L 49.42211055276382 34.676780534395625 L 49.482412060301506 34.71211272032959 L 49.54271356783919 34.74744490626355 L 49.60301507537689 34.78277709219753 L 49.663316582914575 34.818109278131494 L 49.72361809045226 34.853441464065455 L 49.78391959798995 34.88877364999942 L 49.84422110552764 34.92410583593339 L 49.904522613065325 34.959438021867356 L 49.96482412060301 34.99477020780132 L 50.02512562814071 35.03010239373529 L 50.085427135678394 35.06543457966925 L 50.14572864321608 35.10076676560322 L 50.20603015075377 35.136098951537186 L 50.266331658291456 35.17143113747115 L 50.32663316582914 35.20676332340511 L 50.38693467336683 35.24209550933908 L 50.447236180904525 35.27742769527305 L 50.50753768844221 35.312759881207015 L 50.5678391959799 35.34809206714098 L 50.62814070351759 35.38342425307495 L 50.688442211055275 35.41875643900891 L 50.74874371859296 35.45408862494288 L 50.80904522613065 35.489420810876844 L 50.869346733668344 35.52475299681081 L 50.92964824120603 35.56008518274478 L 50.98994974874372 35.595417368678746 L 51.050251256281406 35.63074955461271 L 51.11055276381909 35.66608174054667 L 51.17085427135678 35.70141392648064 L 51.231155778894475 35.73674611241461 L 51.29145728643216 35.772078298348575 L 51.35175879396985 35.80741048428254 L 51.41206030150754 35.84274267021651 L 51.472361809045225 35.87807485615047 L 51.53266331658291 35.91340704208444 L 51.5929648241206 35.948739228018404 L 51.653266331658294 35.98407141395237 L 51.71356783919598 36.01940359988634 L 51.77386934673367 36.054735785820306 L 51.834170854271356 36.090067971754266 L 51.89447236180904 36.12540015768823 L 51.95477386934673 36.1607323436222 L 52.015075376884425 36.19606452955617 L 52.07537688442211 36.231396715490135 L 52.1356783919598 36.2667289014241 L 52.19597989949749 36.30206108735807 L 52.256281407035175 36.33739327329203 L 52.31658291457286 36.372725459226 L 52.37688442211055 36.408057645159964 L 52.437185929648244 36.44338983109393 L 52.49748743718593 36.4787220170279 L 52.55778894472362 36.514054202961866 L 52.618090452261306 36.549386388895826 L 52.678391959798994 36.58471857482979 L 52.73869346733668 36.62005076076376 L 52.798994974874375 36.65538294669773 L 52.85929648241206 36.690715132631695 L 52.91959798994975 36.72604731856566 L 52.97989949748744 36.76137950449962 L 53.040201005025125 36.79671169043359 L 53.10050251256281 36.83204387636756 L 53.1608040201005 36.867376062301524 L 53.22110552763819 36.902708248235484 L 53.28140703517588 36.93804043416946 L 53.34170854271357 36.973372620103426 L 53.402010050251256 37.008704806037386 L 53.462311557788944 37.04403699197135 L 53.52261306532663 37.07936917790532 L 53.58291457286432 37.11470136383929 L 53.64321608040201 37.150033549773255 L 53.7035175879397 37.18536573570722 L 53.76381909547739 37.22069792164118 L 53.824120603015075 37.25603010757515 L 53.88442211055276 37.29136229350912 L 53.94472361809045 37.326694479443084 L 54.00502512562814 37.362026665377044 L 54.06532663316583 37.39735885131102 L 54.12562814070352 37.43269103724498 L 54.185929648241206 37.468023223178946 L 54.246231155778894 37.50335540911291 L 54.30653266331658 37.53868759504688 L 54.36683417085427 37.57401978098084 L 54.42713567839196 37.609351966914815 L 54.48743718592965 37.64468415284878 L 54.54773869346734 37.68001633878274 L 54.608040201005025 37.71534852471671 L 54.66834170854271 37.75068071065068 L 54.7286432160804 37.78601289658464 L 54.78894472361809 37.821345082518604 L 54.84924623115578 37.85667726845257 L 54.90954773869347 37.89200945438654 L 54.969849246231156 37.927341640320506 L 55.030150753768844 37.96267382625447 L 55.09045226130653 37.99800601218843 L 55.15075376884422 38.0333381981224 L 55.21105527638191 38.06867038405637 L 55.2713567839196 38.104002569990335 L 55.33165829145729 38.1393347559243 L 55.391959798994975 38.17466694185827 L 55.45226130653266 38.20999912779223 L 55.51256281407035 38.2453313137262 L 55.57286432160804 38.280663499660164 L 55.633165829145725 38.31599568559413 L 55.69346733668342 38.3513278715281 L 55.753768844221106 38.386660057462066 L 55.814070351758794 38.42199224339603 L 55.87437185929648 38.457324429329994 L 55.93467336683417 38.49265661526396 L 55.99497487437186 38.52798880119793 L 56.05527638190955 38.563320987131895 L 56.11557788944724 38.59865317306586 L 56.175879396984925 38.63398535899983 L 56.23618090452261 38.66931754493379 L 56.2964824120603 38.70464973086776 L 56.35678391959799 38.739981916801725 L 56.417085427135675 38.77531410273569 L 56.47738693467337 38.81064628866966 L 56.537688442211056 38.845978474603626 L 56.597989949748744 38.881310660537586 L 56.65829145728643 38.916642846471554 L 56.71859296482412 38.95197503240552 L 56.778894472361806 38.98730721833949 L 56.8391959798995 39.022639404273455 L 56.89949748743719 39.05797159020742 L 56.959798994974875 39.09330377614139 L 57.02010050251256 39.12863596207535 L 57.08040201005025 39.16396814800932 L 57.14070351758794 39.199300333943285 L 57.201005025125625 39.23463251987725 L 57.26130653266331 39.26996470581121 L 57.321608040201006 39.305296891745186 L 57.381909547738694 39.34062907767915 L 57.44221105527638 39.375961263613114 L 57.50251256281407 39.41129344954708 L 57.562814070351756 39.44662563548105 L 57.62311557788945 39.481957821415016 L 57.68341708542714 39.51729000734898 L 57.743718592964825 39.55262219328294 L 57.80402010050251 39.58795437921691 L 57.8643216080402 39.62328656515088 L 57.92462311557789 39.658618751084845 L 57.984924623115575 39.693950937018805 L 58.04522613065326 39.72928312295277 L 58.10552763819096 39.76461530888675 L 58.165829145728644 39.79994749482071 L 58.22613065326633 39.835279680754674 L 58.28643216080402 39.87061186668864 L 58.346733668341706 39.90594405262261 L 58.4070351758794 39.941276238556576 L 58.46733668341709 39.97660842449054 L 58.527638190954775 40.0119406104245 L 58.58793969849246 40.04727279635847 L 58.64824120603015 40.08260498229244 L 58.70854271356784 40.117937168226405 L 58.768844221105525 40.153269354160365 L 58.82914572864321 40.18860154009433 L 58.88944723618091 40.2239337260283 L 58.949748743718594 40.25926591196227 L 59.01005025125628 40.294598097896234 L 59.07035175879397 40.3299302838302 L 59.130653266331656 40.36526246976416 L 59.19095477386935 40.400594655698136 L 59.25125628140704 40.4359268416321 L 59.311557788944725 40.47125902756606 L 59.37185929648241 40.50659121350003 L 59.4321608040201 40.541923399434 L 59.49246231155779 40.577255585367965 L 59.552763819095475 40.612587771301925 L 59.61306532663316 40.64791995723589 L 59.67336683417085 40.68325214316986 L 59.733668341708544 40.71858432910383 L 59.79396984924623 40.753916515037794 L 59.85427135678392 40.78924870097176 L 59.914572864321606 40.82458088690572 L 59.97487437185929 40.85991307283969 L 60.03517587939699 40.895245258773656 L 60.095477386934675 40.93057744470762 L 60.15577889447236 40.96590963064159 L 60.21608040201005 41.00124181657556 L 60.27638190954774 41.03657400250952 L 60.336683417085425 41.071906188443485 L 60.39698492462311 41.10723837437745 L 60.4572864321608 41.14257056031142 L 60.517587939698494 41.17790274624539 L 60.57788944723618 41.213234932179354 L 60.63819095477387 41.248567118113314 L 60.698492462311556 41.28389930404728 L 60.75879396984924 41.31923148998125 L 60.81909547738694 41.354563675915216 L 60.879396984924625 41.38989586184918 L 60.93969849246231 41.42522804778315 L 61.0 41.46056023371712",
                    "type": "path",
                    "line": {
                      "color": "rgb(228,26,28)"
                    }
                  }
                ]
              },
              "config": {
                "plotlyServerURL": "https://plot.ly"
              }
            },
            "text/html": "<div>                            <div id=\"8697fe30-d1c0-43ab-b05a-5d6263c5da5e\" class=\"plotly-graph-div\" style=\"height:400px; width:100%;\"></div>            <script type=\"text/javascript\">                require([\"plotly\"], function(Plotly) {                    window.PLOTLYENV=window.PLOTLYENV || {};                                    if (document.getElementById(\"8697fe30-d1c0-43ab-b05a-5d6263c5da5e\")) {                    Plotly.newPlot(                        \"8697fe30-d1c0-43ab-b05a-5d6263c5da5e\",                        [{\"hovertemplate\":\"harness size=%{x}<br>boot size=%{y}<extra></extra>\",\"legendgroup\":\"\",\"marker\":{\"color\":\"#636efa\",\"symbol\":\"circle\",\"size\":19},\"mode\":\"markers\",\"name\":\"\",\"orientation\":\"v\",\"showlegend\":false,\"x\":[58,58,52,58,57,52,55,53,49,54,59,56,53,58,57,58,56,51,50,59,59,59,55,50,55,52,53,54,61,56,55,60,57,56,61,58,53,57,57,55,60,51,52,56,55,57,58,57,51,59],\"xaxis\":\"x\",\"y\":[39,38,37,39,38,35,37,36,35,40,40,36,38,39,42,42,36,36,35,41,42,38,37,35,40,36,35,39,41,37,35,41,39,41,42,42,36,37,37,39,42,35,36,41,41,41,39,39,35,39],\"yaxis\":\"y\",\"type\":\"scatter\"}],                        {\"template\":{\"data\":{\"barpolar\":[{\"marker\":{\"line\":{\"color\":\"white\",\"width\":0.5},\"pattern\":{\"fillmode\":\"overlay\",\"size\":10,\"solidity\":0.2}},\"type\":\"barpolar\"}],\"bar\":[{\"error_x\":{\"color\":\"#2a3f5f\"},\"error_y\":{\"color\":\"#2a3f5f\"},\"marker\":{\"line\":{\"color\":\"white\",\"width\":0.5},\"pattern\":{\"fillmode\":\"overlay\",\"size\":10,\"solidity\":0.2}},\"type\":\"bar\"}],\"carpet\":[{\"aaxis\":{\"endlinecolor\":\"#2a3f5f\",\"gridcolor\":\"#C8D4E3\",\"linecolor\":\"#C8D4E3\",\"minorgridcolor\":\"#C8D4E3\",\"startlinecolor\":\"#2a3f5f\"},\"baxis\":{\"endlinecolor\":\"#2a3f5f\",\"gridcolor\":\"#C8D4E3\",\"linecolor\":\"#C8D4E3\",\"minorgridcolor\":\"#C8D4E3\",\"startlinecolor\":\"#2a3f5f\"},\"type\":\"carpet\"}],\"choropleth\":[{\"colorbar\":{\"outlinewidth\":0,\"ticks\":\"\"},\"type\":\"choropleth\"}],\"contourcarpet\":[{\"colorbar\":{\"outlinewidth\":0,\"ticks\":\"\"},\"type\":\"contourcarpet\"}],\"contour\":[{\"colorbar\":{\"outlinewidth\":0,\"ticks\":\"\"},\"colorscale\":[[0.0,\"#0d0887\"],[0.1111111111111111,\"#46039f\"],[0.2222222222222222,\"#7201a8\"],[0.3333333333333333,\"#9c179e\"],[0.4444444444444444,\"#bd3786\"],[0.5555555555555556,\"#d8576b\"],[0.6666666666666666,\"#ed7953\"],[0.7777777777777778,\"#fb9f3a\"],[0.8888888888888888,\"#fdca26\"],[1.0,\"#f0f921\"]],\"type\":\"contour\"}],\"heatmapgl\":[{\"colorbar\":{\"outlinewidth\":0,\"ticks\":\"\"},\"colorscale\":[[0.0,\"#0d0887\"],[0.1111111111111111,\"#46039f\"],[0.2222222222222222,\"#7201a8\"],[0.3333333333333333,\"#9c179e\"],[0.4444444444444444,\"#bd3786\"],[0.5555555555555556,\"#d8576b\"],[0.6666666666666666,\"#ed7953\"],[0.7777777777777778,\"#fb9f3a\"],[0.8888888888888888,\"#fdca26\"],[1.0,\"#f0f921\"]],\"type\":\"heatmapgl\"}],\"heatmap\":[{\"colorbar\":{\"outlinewidth\":0,\"ticks\":\"\"},\"colorscale\":[[0.0,\"#0d0887\"],[0.1111111111111111,\"#46039f\"],[0.2222222222222222,\"#7201a8\"],[0.3333333333333333,\"#9c179e\"],[0.4444444444444444,\"#bd3786\"],[0.5555555555555556,\"#d8576b\"],[0.6666666666666666,\"#ed7953\"],[0.7777777777777778,\"#fb9f3a\"],[0.8888888888888888,\"#fdca26\"],[1.0,\"#f0f921\"]],\"type\":\"heatmap\"}],\"histogram2dcontour\":[{\"colorbar\":{\"outlinewidth\":0,\"ticks\":\"\"},\"colorscale\":[[0.0,\"#0d0887\"],[0.1111111111111111,\"#46039f\"],[0.2222222222222222,\"#7201a8\"],[0.3333333333333333,\"#9c179e\"],[0.4444444444444444,\"#bd3786\"],[0.5555555555555556,\"#d8576b\"],[0.6666666666666666,\"#ed7953\"],[0.7777777777777778,\"#fb9f3a\"],[0.8888888888888888,\"#fdca26\"],[1.0,\"#f0f921\"]],\"type\":\"histogram2dcontour\"}],\"histogram2d\":[{\"colorbar\":{\"outlinewidth\":0,\"ticks\":\"\"},\"colorscale\":[[0.0,\"#0d0887\"],[0.1111111111111111,\"#46039f\"],[0.2222222222222222,\"#7201a8\"],[0.3333333333333333,\"#9c179e\"],[0.4444444444444444,\"#bd3786\"],[0.5555555555555556,\"#d8576b\"],[0.6666666666666666,\"#ed7953\"],[0.7777777777777778,\"#fb9f3a\"],[0.8888888888888888,\"#fdca26\"],[1.0,\"#f0f921\"]],\"type\":\"histogram2d\"}],\"histogram\":[{\"marker\":{\"pattern\":{\"fillmode\":\"overlay\",\"size\":10,\"solidity\":0.2},\"line\":{\"width\":1}},\"type\":\"histogram\"}],\"mesh3d\":[{\"colorbar\":{\"outlinewidth\":0,\"ticks\":\"\"},\"type\":\"mesh3d\"}],\"parcoords\":[{\"line\":{\"colorbar\":{\"outlinewidth\":0,\"ticks\":\"\"}},\"type\":\"parcoords\"}],\"pie\":[{\"automargin\":true,\"type\":\"pie\"}],\"scatter3d\":[{\"line\":{\"colorbar\":{\"outlinewidth\":0,\"ticks\":\"\"}},\"marker\":{\"colorbar\":{\"outlinewidth\":0,\"ticks\":\"\"},\"opacity\":0.8},\"type\":\"scatter3d\"}],\"scattercarpet\":[{\"marker\":{\"colorbar\":{\"outlinewidth\":0,\"ticks\":\"\"}},\"type\":\"scattercarpet\"}],\"scattergeo\":[{\"marker\":{\"colorbar\":{\"outlinewidth\":0,\"ticks\":\"\"}},\"type\":\"scattergeo\"}],\"scattergl\":[{\"marker\":{\"colorbar\":{\"outlinewidth\":0,\"ticks\":\"\"}},\"type\":\"scattergl\"}],\"scattermapbox\":[{\"marker\":{\"colorbar\":{\"outlinewidth\":0,\"ticks\":\"\"}},\"type\":\"scattermapbox\"}],\"scatterpolargl\":[{\"marker\":{\"colorbar\":{\"outlinewidth\":0,\"ticks\":\"\"}},\"type\":\"scatterpolargl\"}],\"scatterpolar\":[{\"marker\":{\"colorbar\":{\"outlinewidth\":0,\"ticks\":\"\"}},\"type\":\"scatterpolar\"}],\"scatter\":[{\"fillpattern\":{\"fillmode\":\"overlay\",\"size\":10,\"solidity\":0.2},\"type\":\"scatter\",\"marker\":{\"opacity\":0.8}}],\"scatterternary\":[{\"marker\":{\"colorbar\":{\"outlinewidth\":0,\"ticks\":\"\"}},\"type\":\"scatterternary\"}],\"surface\":[{\"colorbar\":{\"outlinewidth\":0,\"ticks\":\"\"},\"colorscale\":[[0.0,\"#0d0887\"],[0.1111111111111111,\"#46039f\"],[0.2222222222222222,\"#7201a8\"],[0.3333333333333333,\"#9c179e\"],[0.4444444444444444,\"#bd3786\"],[0.5555555555555556,\"#d8576b\"],[0.6666666666666666,\"#ed7953\"],[0.7777777777777778,\"#fb9f3a\"],[0.8888888888888888,\"#fdca26\"],[1.0,\"#f0f921\"]],\"type\":\"surface\"}],\"table\":[{\"cells\":{\"fill\":{\"color\":\"#EBF0F8\"},\"line\":{\"color\":\"white\"}},\"header\":{\"fill\":{\"color\":\"#C8D4E3\"},\"line\":{\"color\":\"white\"}},\"type\":\"table\"}],\"box\":[{\"boxpoints\":\"outliers\",\"notched\":false,\"type\":\"box\"}]},\"layout\":{\"annotationdefaults\":{\"arrowcolor\":\"#2a3f5f\",\"arrowhead\":0,\"arrowwidth\":1},\"autotypenumbers\":\"strict\",\"coloraxis\":{\"colorbar\":{\"outlinewidth\":0,\"ticks\":\"\"}},\"colorscale\":{\"diverging\":[[0,\"#8e0152\"],[0.1,\"#c51b7d\"],[0.2,\"#de77ae\"],[0.3,\"#f1b6da\"],[0.4,\"#fde0ef\"],[0.5,\"#f7f7f7\"],[0.6,\"#e6f5d0\"],[0.7,\"#b8e186\"],[0.8,\"#7fbc41\"],[0.9,\"#4d9221\"],[1,\"#276419\"]],\"sequential\":[[0.0,\"#0d0887\"],[0.1111111111111111,\"#46039f\"],[0.2222222222222222,\"#7201a8\"],[0.3333333333333333,\"#9c179e\"],[0.4444444444444444,\"#bd3786\"],[0.5555555555555556,\"#d8576b\"],[0.6666666666666666,\"#ed7953\"],[0.7777777777777778,\"#fb9f3a\"],[0.8888888888888888,\"#fdca26\"],[1.0,\"#f0f921\"]],\"sequentialminus\":[[0.0,\"#0d0887\"],[0.1111111111111111,\"#46039f\"],[0.2222222222222222,\"#7201a8\"],[0.3333333333333333,\"#9c179e\"],[0.4444444444444444,\"#bd3786\"],[0.5555555555555556,\"#d8576b\"],[0.6666666666666666,\"#ed7953\"],[0.7777777777777778,\"#fb9f3a\"],[0.8888888888888888,\"#fdca26\"],[1.0,\"#f0f921\"]]},\"colorway\":[\"#636efa\",\"#EF553B\",\"#00cc96\",\"#ab63fa\",\"#FFA15A\",\"#19d3f3\",\"#FF6692\",\"#B6E880\",\"#FF97FF\",\"#FECB52\"],\"font\":{\"color\":\"#2a3f5f\"},\"geo\":{\"bgcolor\":\"white\",\"lakecolor\":\"white\",\"landcolor\":\"white\",\"showlakes\":true,\"showland\":true,\"subunitcolor\":\"#C8D4E3\"},\"hoverlabel\":{\"align\":\"left\"},\"hovermode\":\"closest\",\"mapbox\":{\"style\":\"light\"},\"paper_bgcolor\":\"white\",\"plot_bgcolor\":\"white\",\"polar\":{\"angularaxis\":{\"gridcolor\":\"#EBF0F8\",\"linecolor\":\"#EBF0F8\",\"ticks\":\"\"},\"bgcolor\":\"white\",\"radialaxis\":{\"gridcolor\":\"#EBF0F8\",\"linecolor\":\"#EBF0F8\",\"ticks\":\"\"}},\"scene\":{\"xaxis\":{\"backgroundcolor\":\"white\",\"gridcolor\":\"#DFE8F3\",\"gridwidth\":2,\"linecolor\":\"#EBF0F8\",\"showbackground\":true,\"ticks\":\"\",\"zerolinecolor\":\"#EBF0F8\"},\"yaxis\":{\"backgroundcolor\":\"white\",\"gridcolor\":\"#DFE8F3\",\"gridwidth\":2,\"linecolor\":\"#EBF0F8\",\"showbackground\":true,\"ticks\":\"\",\"zerolinecolor\":\"#EBF0F8\"},\"zaxis\":{\"backgroundcolor\":\"white\",\"gridcolor\":\"#DFE8F3\",\"gridwidth\":2,\"linecolor\":\"#EBF0F8\",\"showbackground\":true,\"ticks\":\"\",\"zerolinecolor\":\"#EBF0F8\"},\"camera\":{\"eye\":{\"x\":1.5,\"y\":1.5,\"z\":0.1}}},\"shapedefaults\":{\"line\":{\"color\":\"#2a3f5f\"}},\"ternary\":{\"aaxis\":{\"gridcolor\":\"#DFE8F3\",\"linecolor\":\"#A2B1C6\",\"ticks\":\"\"},\"baxis\":{\"gridcolor\":\"#DFE8F3\",\"linecolor\":\"#A2B1C6\",\"ticks\":\"\"},\"bgcolor\":\"white\",\"caxis\":{\"gridcolor\":\"#DFE8F3\",\"linecolor\":\"#A2B1C6\",\"ticks\":\"\"}},\"title\":{\"x\":0.5},\"xaxis\":{\"automargin\":true,\"gridcolor\":\"#EBF0F8\",\"linecolor\":\"#EBF0F8\",\"ticks\":\"\",\"title\":{\"standoff\":15},\"zerolinecolor\":\"#EBF0F8\",\"zerolinewidth\":2,\"linewidth\":2,\"showline\":true},\"yaxis\":{\"automargin\":true,\"gridcolor\":\"#EBF0F8\",\"linecolor\":\"#EBF0F8\",\"ticks\":\"\",\"title\":{\"standoff\":15},\"zerolinecolor\":\"#EBF0F8\",\"zerolinewidth\":2,\"linewidth\":2,\"showline\":true},\"height\":400,\"margin\":{\"b\":2,\"l\":2,\"r\":2,\"t\":30}}},\"xaxis\":{\"anchor\":\"y\",\"domain\":[0.0,1.0],\"title\":{\"text\":\"harness size\"}},\"yaxis\":{\"anchor\":\"x\",\"domain\":[0.0,1.0],\"title\":{\"text\":\"boot size\"}},\"legend\":{\"tracegroupgap\":0},\"shapes\":[{\"path\":\"M49.0 34.42945523285786 L 49.06030150753769 34.46478741879183 L 49.120603015075375 34.500119604725796 L 49.18090452261306 34.53545179065976 L 49.24120603015076 34.57078397659373 L 49.301507537688444 34.60611616252769 L 49.36180904522613 34.64144834846166 L 49.42211055276382 34.676780534395625 L 49.482412060301506 34.71211272032959 L 49.54271356783919 34.74744490626355 L 49.60301507537689 34.78277709219753 L 49.663316582914575 34.818109278131494 L 49.72361809045226 34.853441464065455 L 49.78391959798995 34.88877364999942 L 49.84422110552764 34.92410583593339 L 49.904522613065325 34.959438021867356 L 49.96482412060301 34.99477020780132 L 50.02512562814071 35.03010239373529 L 50.085427135678394 35.06543457966925 L 50.14572864321608 35.10076676560322 L 50.20603015075377 35.136098951537186 L 50.266331658291456 35.17143113747115 L 50.32663316582914 35.20676332340511 L 50.38693467336683 35.24209550933908 L 50.447236180904525 35.27742769527305 L 50.50753768844221 35.312759881207015 L 50.5678391959799 35.34809206714098 L 50.62814070351759 35.38342425307495 L 50.688442211055275 35.41875643900891 L 50.74874371859296 35.45408862494288 L 50.80904522613065 35.489420810876844 L 50.869346733668344 35.52475299681081 L 50.92964824120603 35.56008518274478 L 50.98994974874372 35.595417368678746 L 51.050251256281406 35.63074955461271 L 51.11055276381909 35.66608174054667 L 51.17085427135678 35.70141392648064 L 51.231155778894475 35.73674611241461 L 51.29145728643216 35.772078298348575 L 51.35175879396985 35.80741048428254 L 51.41206030150754 35.84274267021651 L 51.472361809045225 35.87807485615047 L 51.53266331658291 35.91340704208444 L 51.5929648241206 35.948739228018404 L 51.653266331658294 35.98407141395237 L 51.71356783919598 36.01940359988634 L 51.77386934673367 36.054735785820306 L 51.834170854271356 36.090067971754266 L 51.89447236180904 36.12540015768823 L 51.95477386934673 36.1607323436222 L 52.015075376884425 36.19606452955617 L 52.07537688442211 36.231396715490135 L 52.1356783919598 36.2667289014241 L 52.19597989949749 36.30206108735807 L 52.256281407035175 36.33739327329203 L 52.31658291457286 36.372725459226 L 52.37688442211055 36.408057645159964 L 52.437185929648244 36.44338983109393 L 52.49748743718593 36.4787220170279 L 52.55778894472362 36.514054202961866 L 52.618090452261306 36.549386388895826 L 52.678391959798994 36.58471857482979 L 52.73869346733668 36.62005076076376 L 52.798994974874375 36.65538294669773 L 52.85929648241206 36.690715132631695 L 52.91959798994975 36.72604731856566 L 52.97989949748744 36.76137950449962 L 53.040201005025125 36.79671169043359 L 53.10050251256281 36.83204387636756 L 53.1608040201005 36.867376062301524 L 53.22110552763819 36.902708248235484 L 53.28140703517588 36.93804043416946 L 53.34170854271357 36.973372620103426 L 53.402010050251256 37.008704806037386 L 53.462311557788944 37.04403699197135 L 53.52261306532663 37.07936917790532 L 53.58291457286432 37.11470136383929 L 53.64321608040201 37.150033549773255 L 53.7035175879397 37.18536573570722 L 53.76381909547739 37.22069792164118 L 53.824120603015075 37.25603010757515 L 53.88442211055276 37.29136229350912 L 53.94472361809045 37.326694479443084 L 54.00502512562814 37.362026665377044 L 54.06532663316583 37.39735885131102 L 54.12562814070352 37.43269103724498 L 54.185929648241206 37.468023223178946 L 54.246231155778894 37.50335540911291 L 54.30653266331658 37.53868759504688 L 54.36683417085427 37.57401978098084 L 54.42713567839196 37.609351966914815 L 54.48743718592965 37.64468415284878 L 54.54773869346734 37.68001633878274 L 54.608040201005025 37.71534852471671 L 54.66834170854271 37.75068071065068 L 54.7286432160804 37.78601289658464 L 54.78894472361809 37.821345082518604 L 54.84924623115578 37.85667726845257 L 54.90954773869347 37.89200945438654 L 54.969849246231156 37.927341640320506 L 55.030150753768844 37.96267382625447 L 55.09045226130653 37.99800601218843 L 55.15075376884422 38.0333381981224 L 55.21105527638191 38.06867038405637 L 55.2713567839196 38.104002569990335 L 55.33165829145729 38.1393347559243 L 55.391959798994975 38.17466694185827 L 55.45226130653266 38.20999912779223 L 55.51256281407035 38.2453313137262 L 55.57286432160804 38.280663499660164 L 55.633165829145725 38.31599568559413 L 55.69346733668342 38.3513278715281 L 55.753768844221106 38.386660057462066 L 55.814070351758794 38.42199224339603 L 55.87437185929648 38.457324429329994 L 55.93467336683417 38.49265661526396 L 55.99497487437186 38.52798880119793 L 56.05527638190955 38.563320987131895 L 56.11557788944724 38.59865317306586 L 56.175879396984925 38.63398535899983 L 56.23618090452261 38.66931754493379 L 56.2964824120603 38.70464973086776 L 56.35678391959799 38.739981916801725 L 56.417085427135675 38.77531410273569 L 56.47738693467337 38.81064628866966 L 56.537688442211056 38.845978474603626 L 56.597989949748744 38.881310660537586 L 56.65829145728643 38.916642846471554 L 56.71859296482412 38.95197503240552 L 56.778894472361806 38.98730721833949 L 56.8391959798995 39.022639404273455 L 56.89949748743719 39.05797159020742 L 56.959798994974875 39.09330377614139 L 57.02010050251256 39.12863596207535 L 57.08040201005025 39.16396814800932 L 57.14070351758794 39.199300333943285 L 57.201005025125625 39.23463251987725 L 57.26130653266331 39.26996470581121 L 57.321608040201006 39.305296891745186 L 57.381909547738694 39.34062907767915 L 57.44221105527638 39.375961263613114 L 57.50251256281407 39.41129344954708 L 57.562814070351756 39.44662563548105 L 57.62311557788945 39.481957821415016 L 57.68341708542714 39.51729000734898 L 57.743718592964825 39.55262219328294 L 57.80402010050251 39.58795437921691 L 57.8643216080402 39.62328656515088 L 57.92462311557789 39.658618751084845 L 57.984924623115575 39.693950937018805 L 58.04522613065326 39.72928312295277 L 58.10552763819096 39.76461530888675 L 58.165829145728644 39.79994749482071 L 58.22613065326633 39.835279680754674 L 58.28643216080402 39.87061186668864 L 58.346733668341706 39.90594405262261 L 58.4070351758794 39.941276238556576 L 58.46733668341709 39.97660842449054 L 58.527638190954775 40.0119406104245 L 58.58793969849246 40.04727279635847 L 58.64824120603015 40.08260498229244 L 58.70854271356784 40.117937168226405 L 58.768844221105525 40.153269354160365 L 58.82914572864321 40.18860154009433 L 58.88944723618091 40.2239337260283 L 58.949748743718594 40.25926591196227 L 59.01005025125628 40.294598097896234 L 59.07035175879397 40.3299302838302 L 59.130653266331656 40.36526246976416 L 59.19095477386935 40.400594655698136 L 59.25125628140704 40.4359268416321 L 59.311557788944725 40.47125902756606 L 59.37185929648241 40.50659121350003 L 59.4321608040201 40.541923399434 L 59.49246231155779 40.577255585367965 L 59.552763819095475 40.612587771301925 L 59.61306532663316 40.64791995723589 L 59.67336683417085 40.68325214316986 L 59.733668341708544 40.71858432910383 L 59.79396984924623 40.753916515037794 L 59.85427135678392 40.78924870097176 L 59.914572864321606 40.82458088690572 L 59.97487437185929 40.85991307283969 L 60.03517587939699 40.895245258773656 L 60.095477386934675 40.93057744470762 L 60.15577889447236 40.96590963064159 L 60.21608040201005 41.00124181657556 L 60.27638190954774 41.03657400250952 L 60.336683417085425 41.071906188443485 L 60.39698492462311 41.10723837437745 L 60.4572864321608 41.14257056031142 L 60.517587939698494 41.17790274624539 L 60.57788944723618 41.213234932179354 L 60.63819095477387 41.248567118113314 L 60.698492462311556 41.28389930404728 L 60.75879396984924 41.31923148998125 L 60.81909547738694 41.354563675915216 L 60.879396984924625 41.38989586184918 L 60.93969849246231 41.42522804778315 L 61.0 41.46056023371712\",\"type\":\"path\",\"line\":{\"color\":\"rgb(228,26,28)\"}}]},                        {\"responsive\": true}                    ).then(function(){\n                            \nvar gd = document.getElementById('8697fe30-d1c0-43ab-b05a-5d6263c5da5e');\nvar x = new MutationObserver(function (mutations, observer) {{\n        var display = window.getComputedStyle(gd).display;\n        if (!display || display === 'none') {{\n            console.log([gd, 'removed!']);\n            Plotly.purge(gd);\n            observer.disconnect();\n        }}\n}});\n\n// Listen for the removal of the full notebook cells\nvar notebookContainer = gd.closest('#notebook-container');\nif (notebookContainer) {{\n    x.observe(notebookContainer, {childList: true});\n}}\n\n// Listen for the clearing of the current output cell\nvar outputEl = gd.closest('.output');\nif (outputEl) {{\n    x.observe(outputEl, {childList: true});\n}}\n\n                        })                };                });            </script>        </div>"
          },
          "metadata": {}
        }
      ],
      "execution_count": 9,
      "metadata": {}
    },
    {
      "cell_type": "markdown",
      "source": [
        "\n",
        "The graph above shows our original data as circles with a red line through it. The red line shows our _model_.\n",
        "\n",
        "We can look at this line to understand our model. For example, we can see that as harness size increases, so will the estimated boot size. \n",
        "\n",
        "## Use the model\n",
        "\n",
        "Now that we've finished training, we can use our model to predict a dog's boot size from their harness size. \n",
        "\n",
        "For example, by looking at the red line, we can see that that a harness size of `52.5` (x axis) corresponds to a boot size of about `36.5` (y axis).\n",
        "\n",
        "We don't have to do this by eye though. We can use the model in our program to predict any boot size we like. Run the following code to see how we can use our model now that it's trained:"
      ],
      "metadata": {}
    },
    {
      "cell_type": "code",
      "source": [
        "# harness_size states the size of the harness we are interested in\n",
        "harness_size = { 'harness_size' : [52.5] }\n",
        "\n",
        "# Use the model to predict what size of boots the dog will fit\n",
        "approximate_boot_size = fitted_model.predict(harness_size)\n",
        "\n",
        "# Print the result\n",
        "print(\"Estimated approximate_boot_size:\")\n",
        "print(approximate_boot_size[0])"
      ],
      "outputs": [
        {
          "output_type": "stream",
          "name": "stdout",
          "text": "Estimated approximate_boot_size:\n36.48019419144181\n"
        }
      ],
      "execution_count": 10,
      "metadata": {}
    },
    {
      "cell_type": "markdown",
      "source": [
        "If you'd like, change the value of `52.5` in `harness_size` to a new value and run the block above to see the model in action.\n",
        "\n",
        "## Summary\n",
        "\n",
        "Well done! You've trained your first model. We've demonstrated some topics here without detailed explanation in order to just get your feet wet. In later units, we explain many of these topics in more detail."
      ],
      "metadata": {}
    }
  ],
  "metadata": {
    "kernel_info": {
      "name": "conda-env-azureml_py38-py"
    },
    "kernelspec": {
      "name": "conda-env-azureml_py38-py",
      "language": "python",
      "display_name": "azureml_py38"
    },
    "language_info": {
      "name": "python",
      "version": "3.8.5",
      "mimetype": "text/x-python",
      "codemirror_mode": {
        "name": "ipython",
        "version": 3
      },
      "pygments_lexer": "ipython3",
      "nbconvert_exporter": "python",
      "file_extension": ".py"
    },
    "nteract": {
      "version": "nteract-front-end@1.0.0"
    }
  },
  "nbformat": 4,
  "nbformat_minor": 2
}